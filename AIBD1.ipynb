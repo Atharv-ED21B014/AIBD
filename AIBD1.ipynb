{
  "nbformat": 4,
  "nbformat_minor": 0,
  "metadata": {
    "colab": {
      "provenance": []
    },
    "kernelspec": {
      "name": "python3",
      "display_name": "Python 3"
    },
    "language_info": {
      "name": "python"
    }
  },
  "cells": [
    {
      "cell_type": "code",
      "execution_count": null,
      "metadata": {
        "id": "_an0lPirYt7Z"
      },
      "outputs": [],
      "source": [
        "import pandas as pd\n",
        "import numpy as np\n",
        "import matplotlib.pyplot as plt\n",
        "import seaborn as sns\n",
        "import scipy"
      ]
    },
    {
      "cell_type": "code",
      "source": [
        "df=pd.read_csv('Data_for_assignment1.csv')\n",
        "df"
      ],
      "metadata": {
        "colab": {
          "base_uri": "https://localhost:8080/",
          "height": 423
        },
        "id": "fnnD3n_ZaB7i",
        "outputId": "f7996561-2b51-4696-e4b0-1150da8a8f18"
      },
      "execution_count": null,
      "outputs": [
        {
          "output_type": "execute_result",
          "data": {
            "text/plain": [
              "   Sample_id     Source  Chlorophyll_a  Chlorophyll_b\n",
              "0        S_1  Deciduous       6.359084       3.067975\n",
              "1        S_2  Deciduous       5.054568       2.257669\n",
              "2        S_3  Deciduous       6.236898       1.524366\n",
              "3        S_4  Deciduous       6.366217       0.782920\n",
              "4        S_5  Deciduous       4.726255       1.123569\n",
              "..       ...        ...            ...            ...\n",
              "95      S_96  Evergreen       4.974863       1.618923\n",
              "96      S_97  Evergreen       3.864721       1.687520\n",
              "97      S_98  Evergreen       3.455349       2.234889\n",
              "98      S_99  Evergreen       2.910879       1.907399\n",
              "99     S_100  Evergreen       4.329827       2.282217\n",
              "\n",
              "[100 rows x 4 columns]"
            ],
            "text/html": [
              "\n",
              "  <div id=\"df-56e5b5a0-2886-440e-9973-2811e7241b74\" class=\"colab-df-container\">\n",
              "    <div>\n",
              "<style scoped>\n",
              "    .dataframe tbody tr th:only-of-type {\n",
              "        vertical-align: middle;\n",
              "    }\n",
              "\n",
              "    .dataframe tbody tr th {\n",
              "        vertical-align: top;\n",
              "    }\n",
              "\n",
              "    .dataframe thead th {\n",
              "        text-align: right;\n",
              "    }\n",
              "</style>\n",
              "<table border=\"1\" class=\"dataframe\">\n",
              "  <thead>\n",
              "    <tr style=\"text-align: right;\">\n",
              "      <th></th>\n",
              "      <th>Sample_id</th>\n",
              "      <th>Source</th>\n",
              "      <th>Chlorophyll_a</th>\n",
              "      <th>Chlorophyll_b</th>\n",
              "    </tr>\n",
              "  </thead>\n",
              "  <tbody>\n",
              "    <tr>\n",
              "      <th>0</th>\n",
              "      <td>S_1</td>\n",
              "      <td>Deciduous</td>\n",
              "      <td>6.359084</td>\n",
              "      <td>3.067975</td>\n",
              "    </tr>\n",
              "    <tr>\n",
              "      <th>1</th>\n",
              "      <td>S_2</td>\n",
              "      <td>Deciduous</td>\n",
              "      <td>5.054568</td>\n",
              "      <td>2.257669</td>\n",
              "    </tr>\n",
              "    <tr>\n",
              "      <th>2</th>\n",
              "      <td>S_3</td>\n",
              "      <td>Deciduous</td>\n",
              "      <td>6.236898</td>\n",
              "      <td>1.524366</td>\n",
              "    </tr>\n",
              "    <tr>\n",
              "      <th>3</th>\n",
              "      <td>S_4</td>\n",
              "      <td>Deciduous</td>\n",
              "      <td>6.366217</td>\n",
              "      <td>0.782920</td>\n",
              "    </tr>\n",
              "    <tr>\n",
              "      <th>4</th>\n",
              "      <td>S_5</td>\n",
              "      <td>Deciduous</td>\n",
              "      <td>4.726255</td>\n",
              "      <td>1.123569</td>\n",
              "    </tr>\n",
              "    <tr>\n",
              "      <th>...</th>\n",
              "      <td>...</td>\n",
              "      <td>...</td>\n",
              "      <td>...</td>\n",
              "      <td>...</td>\n",
              "    </tr>\n",
              "    <tr>\n",
              "      <th>95</th>\n",
              "      <td>S_96</td>\n",
              "      <td>Evergreen</td>\n",
              "      <td>4.974863</td>\n",
              "      <td>1.618923</td>\n",
              "    </tr>\n",
              "    <tr>\n",
              "      <th>96</th>\n",
              "      <td>S_97</td>\n",
              "      <td>Evergreen</td>\n",
              "      <td>3.864721</td>\n",
              "      <td>1.687520</td>\n",
              "    </tr>\n",
              "    <tr>\n",
              "      <th>97</th>\n",
              "      <td>S_98</td>\n",
              "      <td>Evergreen</td>\n",
              "      <td>3.455349</td>\n",
              "      <td>2.234889</td>\n",
              "    </tr>\n",
              "    <tr>\n",
              "      <th>98</th>\n",
              "      <td>S_99</td>\n",
              "      <td>Evergreen</td>\n",
              "      <td>2.910879</td>\n",
              "      <td>1.907399</td>\n",
              "    </tr>\n",
              "    <tr>\n",
              "      <th>99</th>\n",
              "      <td>S_100</td>\n",
              "      <td>Evergreen</td>\n",
              "      <td>4.329827</td>\n",
              "      <td>2.282217</td>\n",
              "    </tr>\n",
              "  </tbody>\n",
              "</table>\n",
              "<p>100 rows × 4 columns</p>\n",
              "</div>\n",
              "    <div class=\"colab-df-buttons\">\n",
              "\n",
              "  <div class=\"colab-df-container\">\n",
              "    <button class=\"colab-df-convert\" onclick=\"convertToInteractive('df-56e5b5a0-2886-440e-9973-2811e7241b74')\"\n",
              "            title=\"Convert this dataframe to an interactive table.\"\n",
              "            style=\"display:none;\">\n",
              "\n",
              "  <svg xmlns=\"http://www.w3.org/2000/svg\" height=\"24px\" viewBox=\"0 -960 960 960\">\n",
              "    <path d=\"M120-120v-720h720v720H120Zm60-500h600v-160H180v160Zm220 220h160v-160H400v160Zm0 220h160v-160H400v160ZM180-400h160v-160H180v160Zm440 0h160v-160H620v160ZM180-180h160v-160H180v160Zm440 0h160v-160H620v160Z\"/>\n",
              "  </svg>\n",
              "    </button>\n",
              "\n",
              "  <style>\n",
              "    .colab-df-container {\n",
              "      display:flex;\n",
              "      gap: 12px;\n",
              "    }\n",
              "\n",
              "    .colab-df-convert {\n",
              "      background-color: #E8F0FE;\n",
              "      border: none;\n",
              "      border-radius: 50%;\n",
              "      cursor: pointer;\n",
              "      display: none;\n",
              "      fill: #1967D2;\n",
              "      height: 32px;\n",
              "      padding: 0 0 0 0;\n",
              "      width: 32px;\n",
              "    }\n",
              "\n",
              "    .colab-df-convert:hover {\n",
              "      background-color: #E2EBFA;\n",
              "      box-shadow: 0px 1px 2px rgba(60, 64, 67, 0.3), 0px 1px 3px 1px rgba(60, 64, 67, 0.15);\n",
              "      fill: #174EA6;\n",
              "    }\n",
              "\n",
              "    .colab-df-buttons div {\n",
              "      margin-bottom: 4px;\n",
              "    }\n",
              "\n",
              "    [theme=dark] .colab-df-convert {\n",
              "      background-color: #3B4455;\n",
              "      fill: #D2E3FC;\n",
              "    }\n",
              "\n",
              "    [theme=dark] .colab-df-convert:hover {\n",
              "      background-color: #434B5C;\n",
              "      box-shadow: 0px 1px 3px 1px rgba(0, 0, 0, 0.15);\n",
              "      filter: drop-shadow(0px 1px 2px rgba(0, 0, 0, 0.3));\n",
              "      fill: #FFFFFF;\n",
              "    }\n",
              "  </style>\n",
              "\n",
              "    <script>\n",
              "      const buttonEl =\n",
              "        document.querySelector('#df-56e5b5a0-2886-440e-9973-2811e7241b74 button.colab-df-convert');\n",
              "      buttonEl.style.display =\n",
              "        google.colab.kernel.accessAllowed ? 'block' : 'none';\n",
              "\n",
              "      async function convertToInteractive(key) {\n",
              "        const element = document.querySelector('#df-56e5b5a0-2886-440e-9973-2811e7241b74');\n",
              "        const dataTable =\n",
              "          await google.colab.kernel.invokeFunction('convertToInteractive',\n",
              "                                                    [key], {});\n",
              "        if (!dataTable) return;\n",
              "\n",
              "        const docLinkHtml = 'Like what you see? Visit the ' +\n",
              "          '<a target=\"_blank\" href=https://colab.research.google.com/notebooks/data_table.ipynb>data table notebook</a>'\n",
              "          + ' to learn more about interactive tables.';\n",
              "        element.innerHTML = '';\n",
              "        dataTable['output_type'] = 'display_data';\n",
              "        await google.colab.output.renderOutput(dataTable, element);\n",
              "        const docLink = document.createElement('div');\n",
              "        docLink.innerHTML = docLinkHtml;\n",
              "        element.appendChild(docLink);\n",
              "      }\n",
              "    </script>\n",
              "  </div>\n",
              "\n",
              "\n",
              "<div id=\"df-05127347-5f2e-439a-aad0-7ce58284e6c1\">\n",
              "  <button class=\"colab-df-quickchart\" onclick=\"quickchart('df-05127347-5f2e-439a-aad0-7ce58284e6c1')\"\n",
              "            title=\"Suggest charts\"\n",
              "            style=\"display:none;\">\n",
              "\n",
              "<svg xmlns=\"http://www.w3.org/2000/svg\" height=\"24px\"viewBox=\"0 0 24 24\"\n",
              "     width=\"24px\">\n",
              "    <g>\n",
              "        <path d=\"M19 3H5c-1.1 0-2 .9-2 2v14c0 1.1.9 2 2 2h14c1.1 0 2-.9 2-2V5c0-1.1-.9-2-2-2zM9 17H7v-7h2v7zm4 0h-2V7h2v10zm4 0h-2v-4h2v4z\"/>\n",
              "    </g>\n",
              "</svg>\n",
              "  </button>\n",
              "\n",
              "<style>\n",
              "  .colab-df-quickchart {\n",
              "      --bg-color: #E8F0FE;\n",
              "      --fill-color: #1967D2;\n",
              "      --hover-bg-color: #E2EBFA;\n",
              "      --hover-fill-color: #174EA6;\n",
              "      --disabled-fill-color: #AAA;\n",
              "      --disabled-bg-color: #DDD;\n",
              "  }\n",
              "\n",
              "  [theme=dark] .colab-df-quickchart {\n",
              "      --bg-color: #3B4455;\n",
              "      --fill-color: #D2E3FC;\n",
              "      --hover-bg-color: #434B5C;\n",
              "      --hover-fill-color: #FFFFFF;\n",
              "      --disabled-bg-color: #3B4455;\n",
              "      --disabled-fill-color: #666;\n",
              "  }\n",
              "\n",
              "  .colab-df-quickchart {\n",
              "    background-color: var(--bg-color);\n",
              "    border: none;\n",
              "    border-radius: 50%;\n",
              "    cursor: pointer;\n",
              "    display: none;\n",
              "    fill: var(--fill-color);\n",
              "    height: 32px;\n",
              "    padding: 0;\n",
              "    width: 32px;\n",
              "  }\n",
              "\n",
              "  .colab-df-quickchart:hover {\n",
              "    background-color: var(--hover-bg-color);\n",
              "    box-shadow: 0 1px 2px rgba(60, 64, 67, 0.3), 0 1px 3px 1px rgba(60, 64, 67, 0.15);\n",
              "    fill: var(--button-hover-fill-color);\n",
              "  }\n",
              "\n",
              "  .colab-df-quickchart-complete:disabled,\n",
              "  .colab-df-quickchart-complete:disabled:hover {\n",
              "    background-color: var(--disabled-bg-color);\n",
              "    fill: var(--disabled-fill-color);\n",
              "    box-shadow: none;\n",
              "  }\n",
              "\n",
              "  .colab-df-spinner {\n",
              "    border: 2px solid var(--fill-color);\n",
              "    border-color: transparent;\n",
              "    border-bottom-color: var(--fill-color);\n",
              "    animation:\n",
              "      spin 1s steps(1) infinite;\n",
              "  }\n",
              "\n",
              "  @keyframes spin {\n",
              "    0% {\n",
              "      border-color: transparent;\n",
              "      border-bottom-color: var(--fill-color);\n",
              "      border-left-color: var(--fill-color);\n",
              "    }\n",
              "    20% {\n",
              "      border-color: transparent;\n",
              "      border-left-color: var(--fill-color);\n",
              "      border-top-color: var(--fill-color);\n",
              "    }\n",
              "    30% {\n",
              "      border-color: transparent;\n",
              "      border-left-color: var(--fill-color);\n",
              "      border-top-color: var(--fill-color);\n",
              "      border-right-color: var(--fill-color);\n",
              "    }\n",
              "    40% {\n",
              "      border-color: transparent;\n",
              "      border-right-color: var(--fill-color);\n",
              "      border-top-color: var(--fill-color);\n",
              "    }\n",
              "    60% {\n",
              "      border-color: transparent;\n",
              "      border-right-color: var(--fill-color);\n",
              "    }\n",
              "    80% {\n",
              "      border-color: transparent;\n",
              "      border-right-color: var(--fill-color);\n",
              "      border-bottom-color: var(--fill-color);\n",
              "    }\n",
              "    90% {\n",
              "      border-color: transparent;\n",
              "      border-bottom-color: var(--fill-color);\n",
              "    }\n",
              "  }\n",
              "</style>\n",
              "\n",
              "  <script>\n",
              "    async function quickchart(key) {\n",
              "      const quickchartButtonEl =\n",
              "        document.querySelector('#' + key + ' button');\n",
              "      quickchartButtonEl.disabled = true;  // To prevent multiple clicks.\n",
              "      quickchartButtonEl.classList.add('colab-df-spinner');\n",
              "      try {\n",
              "        const charts = await google.colab.kernel.invokeFunction(\n",
              "            'suggestCharts', [key], {});\n",
              "      } catch (error) {\n",
              "        console.error('Error during call to suggestCharts:', error);\n",
              "      }\n",
              "      quickchartButtonEl.classList.remove('colab-df-spinner');\n",
              "      quickchartButtonEl.classList.add('colab-df-quickchart-complete');\n",
              "    }\n",
              "    (() => {\n",
              "      let quickchartButtonEl =\n",
              "        document.querySelector('#df-05127347-5f2e-439a-aad0-7ce58284e6c1 button');\n",
              "      quickchartButtonEl.style.display =\n",
              "        google.colab.kernel.accessAllowed ? 'block' : 'none';\n",
              "    })();\n",
              "  </script>\n",
              "</div>\n",
              "\n",
              "  <div id=\"id_6b7de5e5-d4cf-488a-9d15-0c7d04e88911\">\n",
              "    <style>\n",
              "      .colab-df-generate {\n",
              "        background-color: #E8F0FE;\n",
              "        border: none;\n",
              "        border-radius: 50%;\n",
              "        cursor: pointer;\n",
              "        display: none;\n",
              "        fill: #1967D2;\n",
              "        height: 32px;\n",
              "        padding: 0 0 0 0;\n",
              "        width: 32px;\n",
              "      }\n",
              "\n",
              "      .colab-df-generate:hover {\n",
              "        background-color: #E2EBFA;\n",
              "        box-shadow: 0px 1px 2px rgba(60, 64, 67, 0.3), 0px 1px 3px 1px rgba(60, 64, 67, 0.15);\n",
              "        fill: #174EA6;\n",
              "      }\n",
              "\n",
              "      [theme=dark] .colab-df-generate {\n",
              "        background-color: #3B4455;\n",
              "        fill: #D2E3FC;\n",
              "      }\n",
              "\n",
              "      [theme=dark] .colab-df-generate:hover {\n",
              "        background-color: #434B5C;\n",
              "        box-shadow: 0px 1px 3px 1px rgba(0, 0, 0, 0.15);\n",
              "        filter: drop-shadow(0px 1px 2px rgba(0, 0, 0, 0.3));\n",
              "        fill: #FFFFFF;\n",
              "      }\n",
              "    </style>\n",
              "    <button class=\"colab-df-generate\" onclick=\"generateWithVariable('df')\"\n",
              "            title=\"Generate code using this dataframe.\"\n",
              "            style=\"display:none;\">\n",
              "\n",
              "  <svg xmlns=\"http://www.w3.org/2000/svg\" height=\"24px\"viewBox=\"0 0 24 24\"\n",
              "       width=\"24px\">\n",
              "    <path d=\"M7,19H8.4L18.45,9,17,7.55,7,17.6ZM5,21V16.75L18.45,3.32a2,2,0,0,1,2.83,0l1.4,1.43a1.91,1.91,0,0,1,.58,1.4,1.91,1.91,0,0,1-.58,1.4L9.25,21ZM18.45,9,17,7.55Zm-12,3A5.31,5.31,0,0,0,4.9,8.1,5.31,5.31,0,0,0,1,6.5,5.31,5.31,0,0,0,4.9,4.9,5.31,5.31,0,0,0,6.5,1,5.31,5.31,0,0,0,8.1,4.9,5.31,5.31,0,0,0,12,6.5,5.46,5.46,0,0,0,6.5,12Z\"/>\n",
              "  </svg>\n",
              "    </button>\n",
              "    <script>\n",
              "      (() => {\n",
              "      const buttonEl =\n",
              "        document.querySelector('#id_6b7de5e5-d4cf-488a-9d15-0c7d04e88911 button.colab-df-generate');\n",
              "      buttonEl.style.display =\n",
              "        google.colab.kernel.accessAllowed ? 'block' : 'none';\n",
              "\n",
              "      buttonEl.onclick = () => {\n",
              "        google.colab.notebook.generateWithVariable('df');\n",
              "      }\n",
              "      })();\n",
              "    </script>\n",
              "  </div>\n",
              "\n",
              "    </div>\n",
              "  </div>\n"
            ],
            "application/vnd.google.colaboratory.intrinsic+json": {
              "type": "dataframe",
              "variable_name": "df",
              "summary": "{\n  \"name\": \"df\",\n  \"rows\": 100,\n  \"fields\": [\n    {\n      \"column\": \"Sample_id\",\n      \"properties\": {\n        \"dtype\": \"string\",\n        \"num_unique_values\": 100,\n        \"samples\": [\n          \"S_84\",\n          \"S_54\",\n          \"S_71\"\n        ],\n        \"semantic_type\": \"\",\n        \"description\": \"\"\n      }\n    },\n    {\n      \"column\": \"Source\",\n      \"properties\": {\n        \"dtype\": \"category\",\n        \"num_unique_values\": 2,\n        \"samples\": [\n          \"Evergreen\",\n          \"Deciduous\"\n        ],\n        \"semantic_type\": \"\",\n        \"description\": \"\"\n      }\n    },\n    {\n      \"column\": \"Chlorophyll_a\",\n      \"properties\": {\n        \"dtype\": \"number\",\n        \"std\": 1.8622273523745914,\n        \"min\": 0.071410408,\n        \"max\": 8.320828988,\n        \"num_unique_values\": 100,\n        \"samples\": [\n          3.820834341,\n          6.284510826\n        ],\n        \"semantic_type\": \"\",\n        \"description\": \"\"\n      }\n    },\n    {\n      \"column\": \"Chlorophyll_b\",\n      \"properties\": {\n        \"dtype\": \"number\",\n        \"std\": 0.7941923488024473,\n        \"min\": 0.149904272,\n        \"max\": 3.422601491,\n        \"num_unique_values\": 100,\n        \"samples\": [\n          0.816708925,\n          1.567119374\n        ],\n        \"semantic_type\": \"\",\n        \"description\": \"\"\n      }\n    }\n  ]\n}"
            }
          },
          "metadata": {},
          "execution_count": 5
        }
      ]
    },
    {
      "cell_type": "code",
      "source": [
        "Deciduous_df=df[df['Source']=='Deciduous']\n",
        "Evergreen_df=df[df['Source']=='Evergreen']\n"
      ],
      "metadata": {
        "id": "zVN5P3SDAkgz"
      },
      "execution_count": null,
      "outputs": []
    },
    {
      "cell_type": "code",
      "source": [
        "Deciduous_df.hist(figsize=(15,6),bins=8, range=(0,9))\n",
        "plt.xlabel('Chlorophyll Levels')\n",
        "plt.ylabel('Frequency')\n",
        "plt.show()\n"
      ],
      "metadata": {
        "id": "pd6C_yR2aIcb",
        "colab": {
          "base_uri": "https://localhost:8080/",
          "height": 520
        },
        "outputId": "def7e7be-e73e-459f-81cb-fe681d2ffa64"
      },
      "execution_count": null,
      "outputs": [
        {
          "output_type": "display_data",
          "data": {
            "text/plain": [
              "<Figure size 1500x600 with 2 Axes>"
            ],
            "image/png": "[encoded data removed]"
          },
          "metadata": {}
        }
      ]
    },
    {
      "cell_type": "code",
      "source": [
        "plt.figure(figsize=(10, 6))\n",
        "plt.hist(Deciduous_df['Chlorophyll_a'], bins=8,range=(0,9), alpha=0.5, label='Chlorophyll_a', color='green')\n",
        "plt.hist(Deciduous_df['Chlorophyll_b'], bins=8,range=(0,9), alpha=0.5, label='Chlorophyll_b', color='olive')\n",
        "plt.xlabel('Chlorophyll Levels')\n",
        "plt.ylabel('Frequency')\n",
        "plt.legend(loc='upper right')\n",
        "plt.title('Chlorophyll Levels, Deciduous Forests')\n",
        "plt.show()\n"
      ],
      "metadata": {
        "colab": {
          "base_uri": "https://localhost:8080/",
          "height": 564
        },
        "id": "mPocLtKNpVMW",
        "outputId": "6e2c6027-e69f-4c56-a3ed-b8da04bcbc60"
      },
      "execution_count": null,
      "outputs": [
        {
          "output_type": "display_data",
          "data": {
            "text/plain": [
              "<Figure size 1000x600 with 1 Axes>"
            ],
            "image/png": "[encoded data removed]"
          },
          "metadata": {}
        }
      ]
    },
    {
      "cell_type": "code",
      "source": [
        "Evergreen_df.hist(figsize=(15,6),bins=8, range=(0,9))\n",
        "#labelling and title\n",
        "plt.xlabel('Chlorophyll Levels')\n",
        "plt.ylabel('Frequency')\n",
        "plt.show()"
      ],
      "metadata": {
        "id": "llPGfREpCG-Z",
        "colab": {
          "base_uri": "https://localhost:8080/",
          "height": 520
        },
        "outputId": "eb264161-7532-4dcc-812d-051a1b02b683"
      },
      "execution_count": null,
      "outputs": [
        {
          "output_type": "display_data",
          "data": {
            "text/plain": [
              "<Figure size 1500x600 with 2 Axes>"
            ],
            "image/png": "[encoded data removed]"
          },
          "metadata": {}
        }
      ]
    },
    {
      "cell_type": "code",
      "source": [
        "plt.figure(figsize=(10, 6))\n",
        "plt.hist(Evergreen_df['Chlorophyll_a'], bins=8,range=(0,9), alpha=0.5, label='Chlorophyll_a', color='green')\n",
        "plt.hist(Evergreen_df['Chlorophyll_b'], bins=8,range=(0,9), alpha=0.5, label='Chlorophyll_b', color='olive')\n",
        "plt.xlabel('Chlorophyll Levels')\n",
        "plt.ylabel('Frequency')\n",
        "plt.legend(loc='upper right')\n",
        "plt.title('Chlorophyll Levels, Evergreen Forests')\n",
        "plt.show()"
      ],
      "metadata": {
        "colab": {
          "base_uri": "https://localhost:8080/",
          "height": 564
        },
        "id": "EgeoNu-kupaa",
        "outputId": "97a2ffe8-e38d-4ec2-9944-89ed448d83a9"
      },
      "execution_count": null,
      "outputs": [
        {
          "output_type": "display_data",
          "data": {
            "text/plain": [
              "<Figure size 1000x600 with 1 Axes>"
            ],
            "image/png": "[encoded data removed]"
          },
          "metadata": {}
        }
      ]
    },
    {
      "cell_type": "code",
      "source": [
        "df.hist(figsize=(15,6),bins=8, range=(0,9))\n",
        "plt.xlabel('Chlorophyll Levels')\n",
        "plt.ylabel('Frequency')\n",
        "plt.show()\n"
      ],
      "metadata": {
        "id": "kXG0tIIeCZml",
        "colab": {
          "base_uri": "https://localhost:8080/",
          "height": 515
        },
        "outputId": "e555eb6c-6c9e-43f7-e031-b1abeba48c9e"
      },
      "execution_count": null,
      "outputs": [
        {
          "output_type": "display_data",
          "data": {
            "text/plain": [
              "<Figure size 1500x600 with 2 Axes>"
            ],
            "image/png": "[encoded data removed]"
          },
          "metadata": {}
        }
      ]
    },
    {
      "cell_type": "code",
      "source": [
        "plt.figure(figsize=(10, 6))\n",
        "plt.hist(df['Chlorophyll_a'], bins=8,range=(0,9), alpha=0.5, label='Chlorophyll_a', color='green')\n",
        "plt.hist(df['Chlorophyll_b'], bins=8,range=(0,9), alpha=0.5, label='Chlorophyll_b', color='olive')\n",
        "plt.xlabel('Chlorophyll Levels')\n",
        "plt.ylabel('Frequency')\n",
        "plt.legend(loc='upper right')\n",
        "plt.title('Chlorophyll Levels, All Forests')\n",
        "plt.show()"
      ],
      "metadata": {
        "colab": {
          "base_uri": "https://localhost:8080/",
          "height": 564
        },
        "id": "7PGlf0Z1wjoy",
        "outputId": "f2027479-5fd8-4cb2-9d59-53bd9b3d309c"
      },
      "execution_count": null,
      "outputs": [
        {
          "output_type": "display_data",
          "data": {
            "text/plain": [
              "<Figure size 1000x600 with 1 Axes>"
            ],
            "image/png": "[encoded data removed]"
          },
          "metadata": {}
        }
      ]
    },
    {
      "cell_type": "code",
      "source": [
        "# 1, 2 and 3 in same plot together as density plot\n",
        "sns.kdeplot(Deciduous_df['Chlorophyll_b'], label='Deciduous_b',color='orange', linestyle='dashed')\n",
        "sns.kdeplot(Deciduous_df['Chlorophyll_a'], label='Deciduous_a',color='red', linestyle='dashed')\n",
        "sns.kdeplot(Evergreen_df['Chlorophyll_b'], label='Evergreen_b',color='lime', linestyle='dashed')\n",
        "sns.kdeplot(Evergreen_df['Chlorophyll_a'], label='Evergreen_a',color='darkgreen', linestyle='dashed')\n",
        "sns.kdeplot(df['Chlorophyll_b'], label='All_b',color='blue')\n",
        "sns.kdeplot(df['Chlorophyll_a'], label='All_a',color='black')\n",
        "plt.xlabel('Chlorophyll Levels')\n",
        "plt.ylabel('Density')\n",
        "plt.title('Distribution of chlorophyll a and chlorophyll b levels in forests')\n",
        "plt.legend()\n",
        "plt.show()"
      ],
      "metadata": {
        "id": "TgJ-70_aFMGW",
        "colab": {
          "base_uri": "https://localhost:8080/",
          "height": 472
        },
        "outputId": "a7eb0d8c-e086-4b96-966e-e4f2c943e434"
      },
      "execution_count": null,
      "outputs": [
        {
          "output_type": "display_data",
          "data": {
            "text/plain": [
              "<Figure size 640x480 with 1 Axes>"
            ],
            "image/png": "[encoded data removed]"
          },
          "metadata": {}
        }
      ]
    },
    {
      "cell_type": "code",
      "source": [
        "def summary_stats(df, group_name):\n",
        "    print(f\"\\nSummary statistics for {group_name}:\")\n",
        "    for col in ['Chlorophyll_a', 'Chlorophyll_b']:\n",
        "        mean = df[col].mean()\n",
        "        median = df[col].median()\n",
        "        mode = df[col].mode()  # Access the first mode value\n",
        "        if isinstance(mode, pd.Series) and len(mode) == len(df[col]):\n",
        "            mode_val = np.nan  #get first mode value\n",
        "        else:\n",
        "            mode_val=mode[0]\n",
        "        std = df[col].std()\n",
        "        print(f\"\\n{col}:\")\n",
        "        print(f\"  Mean: {mean:.3f}\")\n",
        "        print(f\"  Median: {median:.3f}\")\n",
        "        print(f\"  Mode: {mode_val:.3f}\")\n",
        "        print(f\"  Standard Deviation: {std:.3f}\")\n",
        "\n",
        "\n",
        "summary_stats(Deciduous_df, \"Deciduous Forests\")\n",
        "summary_stats(Evergreen_df, \"Evergreen Forests\")\n",
        "summary_stats(df, \"All Forests\")"
      ],
      "metadata": {
        "id": "7HRFEcQYGLcf",
        "colab": {
          "base_uri": "https://localhost:8080/"
        },
        "outputId": "a82a1148-1ee6-4614-aa33-65540c3d5b77"
      },
      "execution_count": null,
      "outputs": [
        {
          "output_type": "stream",
          "name": "stdout",
          "text": [
            "\n",
            "Summary statistics for Deciduous Forests:\n",
            "\n",
            "Chlorophyll_a:\n",
            "  Mean: 4.564\n",
            "  Median: 4.975\n",
            "  Mode: nan\n",
            "  Standard Deviation: 1.964\n",
            "\n",
            "Chlorophyll_b:\n",
            "  Mean: 1.818\n",
            "  Median: 1.764\n",
            "  Mode: nan\n",
            "  Standard Deviation: 0.864\n",
            "\n",
            "Summary statistics for Evergreen Forests:\n",
            "\n",
            "Chlorophyll_a:\n",
            "  Mean: 3.626\n",
            "  Median: 3.531\n",
            "  Mode: nan\n",
            "  Standard Deviation: 1.643\n",
            "\n",
            "Chlorophyll_b:\n",
            "  Mean: 1.666\n",
            "  Median: 1.781\n",
            "  Mode: nan\n",
            "  Standard Deviation: 0.719\n",
            "\n",
            "Summary statistics for All Forests:\n",
            "\n",
            "Chlorophyll_a:\n",
            "  Mean: 4.095\n",
            "  Median: 4.099\n",
            "  Mode: nan\n",
            "  Standard Deviation: 1.862\n",
            "\n",
            "Chlorophyll_b:\n",
            "  Mean: 1.742\n",
            "  Median: 1.769\n",
            "  Mode: nan\n",
            "  Standard Deviation: 0.794\n"
          ]
        }
      ]
    },
    {
      "cell_type": "code",
      "source": [
        "# Calculate summary statistics for Chlorophyll a and b\n",
        "def summary_stats(df, group_name):\n",
        "    stats = []  # Initialize an empty list to store results for each group\n",
        "    for col in ['Chlorophyll_a', 'Chlorophyll_b']:\n",
        "        mean = df[col].mean()\n",
        "        median = df[col].median()\n",
        "        mode = df[col].mode()  # Access the first mode value\n",
        "        if isinstance(mode, pd.Series) and len(mode) == len(df[col]):\n",
        "            mode_val = np.nan  # get first mode value if many modes\n",
        "        else:\n",
        "            mode_val = mode[0]  # mode is just a single value not a series\n",
        "        std = df[col].std()\n",
        "\n",
        "        stats.append([col, mean, median, mode_val, std]) # Append the results to the stats list\n",
        "\n",
        "    # Create a DataFrame from the gathered statistics\n",
        "    stats_df = pd.DataFrame(stats, columns=['Chlorophyll Type', 'Mean', 'Median', 'Mode', 'Standard Deviation'])\n",
        "    stats_df['Forest Type'] = group_name  # Add the forest type to each row\n",
        "\n",
        "    return stats_df\n",
        "\n",
        "# Calculate and store the summary statistics\n",
        "summary_data = pd.concat([\n",
        "    summary_stats(Deciduous_df, \"Deciduous Forests\"),\n",
        "    summary_stats(Evergreen_df, \"Evergreen Forests\"),\n",
        "    summary_stats(df, \"All Forests\")\n",
        "])\n",
        "\n",
        "# Reset the index to make the index sequential\n",
        "summary_data.reset_index(drop=True,inplace=True)\n",
        "\n",
        "# Set 'Forest Type' and 'Chlorophyll Type' as multi-index\n",
        "summary_data.set_index(['Forest Type', 'Chlorophyll Type'], inplace=True)\n",
        "summary_data[\"Variance\"]=(summary_data.iloc[:,3])**2\n",
        "\n",
        "\n",
        "summary_data"
      ],
      "metadata": {
        "colab": {
          "base_uri": "https://localhost:8080/",
          "height": 269
        },
        "id": "hvJuFt-9xJRv",
        "outputId": "e5b9cc3c-e3f6-4ece-cb16-110ef751ea4d"
      },
      "execution_count": null,
      "outputs": [
        {
          "output_type": "execute_result",
          "data": {
            "text/plain": [
              "                                        Mean    Median  Mode  \\\n",
              "Forest Type       Chlorophyll Type                             \n",
              "Deciduous Forests Chlorophyll_a     4.564366  4.974721   NaN   \n",
              "                  Chlorophyll_b     1.817811  1.763595   NaN   \n",
              "Evergreen Forests Chlorophyll_a     3.625706  3.531464   NaN   \n",
              "                  Chlorophyll_b     1.666338  1.781322   NaN   \n",
              "All Forests       Chlorophyll_a     4.095036  4.098685   NaN   \n",
              "                  Chlorophyll_b     1.742074  1.769393   NaN   \n",
              "\n",
              "                                    Standard Deviation  Variance  \n",
              "Forest Type       Chlorophyll Type                                \n",
              "Deciduous Forests Chlorophyll_a               1.964399  3.858863  \n",
              "                  Chlorophyll_b               0.863713  0.746000  \n",
              "Evergreen Forests Chlorophyll_a               1.642608  2.698161  \n",
              "                  Chlorophyll_b               0.718783  0.516649  \n",
              "All Forests       Chlorophyll_a               1.862227  3.467891  \n",
              "                  Chlorophyll_b               0.794192  0.630741  "
            ],
            "text/html": [
              "\n",
              "  <div id=\"df-76979b5b-5590-4eb0-8e69-3c3aba24ada7\" class=\"colab-df-container\">\n",
              "    <div>\n",
              "<style scoped>\n",
              "    .dataframe tbody tr th:only-of-type {\n",
              "        vertical-align: middle;\n",
              "    }\n",
              "\n",
              "    .dataframe tbody tr th {\n",
              "        vertical-align: top;\n",
              "    }\n",
              "\n",
              "    .dataframe thead th {\n",
              "        text-align: right;\n",
              "    }\n",
              "</style>\n",
              "<table border=\"1\" class=\"dataframe\">\n",
              "  <thead>\n",
              "    <tr style=\"text-align: right;\">\n",
              "      <th></th>\n",
              "      <th></th>\n",
              "      <th>Mean</th>\n",
              "      <th>Median</th>\n",
              "      <th>Mode</th>\n",
              "      <th>Standard Deviation</th>\n",
              "      <th>Variance</th>\n",
              "    </tr>\n",
              "    <tr>\n",
              "      <th>Forest Type</th>\n",
              "      <th>Chlorophyll Type</th>\n",
              "      <th></th>\n",
              "      <th></th>\n",
              "      <th></th>\n",
              "      <th></th>\n",
              "      <th></th>\n",
              "    </tr>\n",
              "  </thead>\n",
              "  <tbody>\n",
              "    <tr>\n",
              "      <th rowspan=\"2\" valign=\"top\">Deciduous Forests</th>\n",
              "      <th>Chlorophyll_a</th>\n",
              "      <td>4.564366</td>\n",
              "      <td>4.974721</td>\n",
              "      <td>NaN</td>\n",
              "      <td>1.964399</td>\n",
              "      <td>3.858863</td>\n",
              "    </tr>\n",
              "    <tr>\n",
              "      <th>Chlorophyll_b</th>\n",
              "      <td>1.817811</td>\n",
              "      <td>1.763595</td>\n",
              "      <td>NaN</td>\n",
              "      <td>0.863713</td>\n",
              "      <td>0.746000</td>\n",
              "    </tr>\n",
              "    <tr>\n",
              "      <th rowspan=\"2\" valign=\"top\">Evergreen Forests</th>\n",
              "      <th>Chlorophyll_a</th>\n",
              "      <td>3.625706</td>\n",
              "      <td>3.531464</td>\n",
              "      <td>NaN</td>\n",
              "      <td>1.642608</td>\n",
              "      <td>2.698161</td>\n",
              "    </tr>\n",
              "    <tr>\n",
              "      <th>Chlorophyll_b</th>\n",
              "      <td>1.666338</td>\n",
              "      <td>1.781322</td>\n",
              "      <td>NaN</td>\n",
              "      <td>0.718783</td>\n",
              "      <td>0.516649</td>\n",
              "    </tr>\n",
              "    <tr>\n",
              "      <th rowspan=\"2\" valign=\"top\">All Forests</th>\n",
              "      <th>Chlorophyll_a</th>\n",
              "      <td>4.095036</td>\n",
              "      <td>4.098685</td>\n",
              "      <td>NaN</td>\n",
              "      <td>1.862227</td>\n",
              "      <td>3.467891</td>\n",
              "    </tr>\n",
              "    <tr>\n",
              "      <th>Chlorophyll_b</th>\n",
              "      <td>1.742074</td>\n",
              "      <td>1.769393</td>\n",
              "      <td>NaN</td>\n",
              "      <td>0.794192</td>\n",
              "      <td>0.630741</td>\n",
              "    </tr>\n",
              "  </tbody>\n",
              "</table>\n",
              "</div>\n",
              "    <div class=\"colab-df-buttons\">\n",
              "\n",
              "  <div class=\"colab-df-container\">\n",
              "    <button class=\"colab-df-convert\" onclick=\"convertToInteractive('df-76979b5b-5590-4eb0-8e69-3c3aba24ada7')\"\n",
              "            title=\"Convert this dataframe to an interactive table.\"\n",
              "            style=\"display:none;\">\n",
              "\n",
              "  <svg xmlns=\"http://www.w3.org/2000/svg\" height=\"24px\" viewBox=\"0 -960 960 960\">\n",
              "    <path d=\"M120-120v-720h720v720H120Zm60-500h600v-160H180v160Zm220 220h160v-160H400v160Zm0 220h160v-160H400v160ZM180-400h160v-160H180v160Zm440 0h160v-160H620v160ZM180-180h160v-160H180v160Zm440 0h160v-160H620v160Z\"/>\n",
              "  </svg>\n",
              "    </button>\n",
              "\n",
              "  <style>\n",
              "    .colab-df-container {\n",
              "      display:flex;\n",
              "      gap: 12px;\n",
              "    }\n",
              "\n",
              "    .colab-df-convert {\n",
              "      background-color: #E8F0FE;\n",
              "      border: none;\n",
              "      border-radius: 50%;\n",
              "      cursor: pointer;\n",
              "      display: none;\n",
              "      fill: #1967D2;\n",
              "      height: 32px;\n",
              "      padding: 0 0 0 0;\n",
              "      width: 32px;\n",
              "    }\n",
              "\n",
              "    .colab-df-convert:hover {\n",
              "      background-color: #E2EBFA;\n",
              "      box-shadow: 0px 1px 2px rgba(60, 64, 67, 0.3), 0px 1px 3px 1px rgba(60, 64, 67, 0.15);\n",
              "      fill: #174EA6;\n",
              "    }\n",
              "\n",
              "    .colab-df-buttons div {\n",
              "      margin-bottom: 4px;\n",
              "    }\n",
              "\n",
              "    [theme=dark] .colab-df-convert {\n",
              "      background-color: #3B4455;\n",
              "      fill: #D2E3FC;\n",
              "    }\n",
              "\n",
              "    [theme=dark] .colab-df-convert:hover {\n",
              "      background-color: #434B5C;\n",
              "      box-shadow: 0px 1px 3px 1px rgba(0, 0, 0, 0.15);\n",
              "      filter: drop-shadow(0px 1px 2px rgba(0, 0, 0, 0.3));\n",
              "      fill: #FFFFFF;\n",
              "    }\n",
              "  </style>\n",
              "\n",
              "    <script>\n",
              "      const buttonEl =\n",
              "        document.querySelector('#df-76979b5b-5590-4eb0-8e69-3c3aba24ada7 button.colab-df-convert');\n",
              "      buttonEl.style.display =\n",
              "        google.colab.kernel.accessAllowed ? 'block' : 'none';\n",
              "\n",
              "      async function convertToInteractive(key) {\n",
              "        const element = document.querySelector('#df-76979b5b-5590-4eb0-8e69-3c3aba24ada7');\n",
              "        const dataTable =\n",
              "          await google.colab.kernel.invokeFunction('convertToInteractive',\n",
              "                                                    [key], {});\n",
              "        if (!dataTable) return;\n",
              "\n",
              "        const docLinkHtml = 'Like what you see? Visit the ' +\n",
              "          '<a target=\"_blank\" href=https://colab.research.google.com/notebooks/data_table.ipynb>data table notebook</a>'\n",
              "          + ' to learn more about interactive tables.';\n",
              "        element.innerHTML = '';\n",
              "        dataTable['output_type'] = 'display_data';\n",
              "        await google.colab.output.renderOutput(dataTable, element);\n",
              "        const docLink = document.createElement('div');\n",
              "        docLink.innerHTML = docLinkHtml;\n",
              "        element.appendChild(docLink);\n",
              "      }\n",
              "    </script>\n",
              "  </div>\n",
              "\n",
              "\n",
              "<div id=\"df-bb352d5e-bf6d-4058-b0b8-5521903a84c8\">\n",
              "  <button class=\"colab-df-quickchart\" onclick=\"quickchart('df-bb352d5e-bf6d-4058-b0b8-5521903a84c8')\"\n",
              "            title=\"Suggest charts\"\n",
              "            style=\"display:none;\">\n",
              "\n",
              "<svg xmlns=\"http://www.w3.org/2000/svg\" height=\"24px\"viewBox=\"0 0 24 24\"\n",
              "     width=\"24px\">\n",
              "    <g>\n",
              "        <path d=\"M19 3H5c-1.1 0-2 .9-2 2v14c0 1.1.9 2 2 2h14c1.1 0 2-.9 2-2V5c0-1.1-.9-2-2-2zM9 17H7v-7h2v7zm4 0h-2V7h2v10zm4 0h-2v-4h2v4z\"/>\n",
              "    </g>\n",
              "</svg>\n",
              "  </button>\n",
              "\n",
              "<style>\n",
              "  .colab-df-quickchart {\n",
              "      --bg-color: #E8F0FE;\n",
              "      --fill-color: #1967D2;\n",
              "      --hover-bg-color: #E2EBFA;\n",
              "      --hover-fill-color: #174EA6;\n",
              "      --disabled-fill-color: #AAA;\n",
              "      --disabled-bg-color: #DDD;\n",
              "  }\n",
              "\n",
              "  [theme=dark] .colab-df-quickchart {\n",
              "      --bg-color: #3B4455;\n",
              "      --fill-color: #D2E3FC;\n",
              "      --hover-bg-color: #434B5C;\n",
              "      --hover-fill-color: #FFFFFF;\n",
              "      --disabled-bg-color: #3B4455;\n",
              "      --disabled-fill-color: #666;\n",
              "  }\n",
              "\n",
              "  .colab-df-quickchart {\n",
              "    background-color: var(--bg-color);\n",
              "    border: none;\n",
              "    border-radius: 50%;\n",
              "    cursor: pointer;\n",
              "    display: none;\n",
              "    fill: var(--fill-color);\n",
              "    height: 32px;\n",
              "    padding: 0;\n",
              "    width: 32px;\n",
              "  }\n",
              "\n",
              "  .colab-df-quickchart:hover {\n",
              "    background-color: var(--hover-bg-color);\n",
              "    box-shadow: 0 1px 2px rgba(60, 64, 67, 0.3), 0 1px 3px 1px rgba(60, 64, 67, 0.15);\n",
              "    fill: var(--button-hover-fill-color);\n",
              "  }\n",
              "\n",
              "  .colab-df-quickchart-complete:disabled,\n",
              "  .colab-df-quickchart-complete:disabled:hover {\n",
              "    background-color: var(--disabled-bg-color);\n",
              "    fill: var(--disabled-fill-color);\n",
              "    box-shadow: none;\n",
              "  }\n",
              "\n",
              "  .colab-df-spinner {\n",
              "    border: 2px solid var(--fill-color);\n",
              "    border-color: transparent;\n",
              "    border-bottom-color: var(--fill-color);\n",
              "    animation:\n",
              "      spin 1s steps(1) infinite;\n",
              "  }\n",
              "\n",
              "  @keyframes spin {\n",
              "    0% {\n",
              "      border-color: transparent;\n",
              "      border-bottom-color: var(--fill-color);\n",
              "      border-left-color: var(--fill-color);\n",
              "    }\n",
              "    20% {\n",
              "      border-color: transparent;\n",
              "      border-left-color: var(--fill-color);\n",
              "      border-top-color: var(--fill-color);\n",
              "    }\n",
              "    30% {\n",
              "      border-color: transparent;\n",
              "      border-left-color: var(--fill-color);\n",
              "      border-top-color: var(--fill-color);\n",
              "      border-right-color: var(--fill-color);\n",
              "    }\n",
              "    40% {\n",
              "      border-color: transparent;\n",
              "      border-right-color: var(--fill-color);\n",
              "      border-top-color: var(--fill-color);\n",
              "    }\n",
              "    60% {\n",
              "      border-color: transparent;\n",
              "      border-right-color: var(--fill-color);\n",
              "    }\n",
              "    80% {\n",
              "      border-color: transparent;\n",
              "      border-right-color: var(--fill-color);\n",
              "      border-bottom-color: var(--fill-color);\n",
              "    }\n",
              "    90% {\n",
              "      border-color: transparent;\n",
              "      border-bottom-color: var(--fill-color);\n",
              "    }\n",
              "  }\n",
              "</style>\n",
              "\n",
              "  <script>\n",
              "    async function quickchart(key) {\n",
              "      const quickchartButtonEl =\n",
              "        document.querySelector('#' + key + ' button');\n",
              "      quickchartButtonEl.disabled = true;  // To prevent multiple clicks.\n",
              "      quickchartButtonEl.classList.add('colab-df-spinner');\n",
              "      try {\n",
              "        const charts = await google.colab.kernel.invokeFunction(\n",
              "            'suggestCharts', [key], {});\n",
              "      } catch (error) {\n",
              "        console.error('Error during call to suggestCharts:', error);\n",
              "      }\n",
              "      quickchartButtonEl.classList.remove('colab-df-spinner');\n",
              "      quickchartButtonEl.classList.add('colab-df-quickchart-complete');\n",
              "    }\n",
              "    (() => {\n",
              "      let quickchartButtonEl =\n",
              "        document.querySelector('#df-bb352d5e-bf6d-4058-b0b8-5521903a84c8 button');\n",
              "      quickchartButtonEl.style.display =\n",
              "        google.colab.kernel.accessAllowed ? 'block' : 'none';\n",
              "    })();\n",
              "  </script>\n",
              "</div>\n",
              "\n",
              "  <div id=\"id_36fca6cc-2ff8-49fc-a5a2-64218508ce12\">\n",
              "    <style>\n",
              "      .colab-df-generate {\n",
              "        background-color: #E8F0FE;\n",
              "        border: none;\n",
              "        border-radius: 50%;\n",
              "        cursor: pointer;\n",
              "        display: none;\n",
              "        fill: #1967D2;\n",
              "        height: 32px;\n",
              "        padding: 0 0 0 0;\n",
              "        width: 32px;\n",
              "      }\n",
              "\n",
              "      .colab-df-generate:hover {\n",
              "        background-color: #E2EBFA;\n",
              "        box-shadow: 0px 1px 2px rgba(60, 64, 67, 0.3), 0px 1px 3px 1px rgba(60, 64, 67, 0.15);\n",
              "        fill: #174EA6;\n",
              "      }\n",
              "\n",
              "      [theme=dark] .colab-df-generate {\n",
              "        background-color: #3B4455;\n",
              "        fill: #D2E3FC;\n",
              "      }\n",
              "\n",
              "      [theme=dark] .colab-df-generate:hover {\n",
              "        background-color: #434B5C;\n",
              "        box-shadow: 0px 1px 3px 1px rgba(0, 0, 0, 0.15);\n",
              "        filter: drop-shadow(0px 1px 2px rgba(0, 0, 0, 0.3));\n",
              "        fill: #FFFFFF;\n",
              "      }\n",
              "    </style>\n",
              "    <button class=\"colab-df-generate\" onclick=\"generateWithVariable('summary_data')\"\n",
              "            title=\"Generate code using this dataframe.\"\n",
              "            style=\"display:none;\">\n",
              "\n",
              "  <svg xmlns=\"http://www.w3.org/2000/svg\" height=\"24px\"viewBox=\"0 0 24 24\"\n",
              "       width=\"24px\">\n",
              "    <path d=\"M7,19H8.4L18.45,9,17,7.55,7,17.6ZM5,21V16.75L18.45,3.32a2,2,0,0,1,2.83,0l1.4,1.43a1.91,1.91,0,0,1,.58,1.4,1.91,1.91,0,0,1-.58,1.4L9.25,21ZM18.45,9,17,7.55Zm-12,3A5.31,5.31,0,0,0,4.9,8.1,5.31,5.31,0,0,0,1,6.5,5.31,5.31,0,0,0,4.9,4.9,5.31,5.31,0,0,0,6.5,1,5.31,5.31,0,0,0,8.1,4.9,5.31,5.31,0,0,0,12,6.5,5.46,5.46,0,0,0,6.5,12Z\"/>\n",
              "  </svg>\n",
              "    </button>\n",
              "    <script>\n",
              "      (() => {\n",
              "      const buttonEl =\n",
              "        document.querySelector('#id_36fca6cc-2ff8-49fc-a5a2-64218508ce12 button.colab-df-generate');\n",
              "      buttonEl.style.display =\n",
              "        google.colab.kernel.accessAllowed ? 'block' : 'none';\n",
              "\n",
              "      buttonEl.onclick = () => {\n",
              "        google.colab.notebook.generateWithVariable('summary_data');\n",
              "      }\n",
              "      })();\n",
              "    </script>\n",
              "  </div>\n",
              "\n",
              "    </div>\n",
              "  </div>\n"
            ],
            "application/vnd.google.colaboratory.intrinsic+json": {
              "type": "dataframe",
              "variable_name": "summary_data",
              "summary": "{\n  \"name\": \"summary_data\",\n  \"rows\": 6,\n  \"fields\": [\n    {\n      \"column\": \"Mean\",\n      \"properties\": {\n        \"dtype\": \"number\",\n        \"std\": 1.323378594225012,\n        \"min\": 1.6663382311400001,\n        \"max\": 4.564365512379999,\n        \"num_unique_values\": 6,\n        \"samples\": [\n          4.564365512379999,\n          1.8178106262999998,\n          1.7420744287200003\n        ],\n        \"semantic_type\": \"\",\n        \"description\": \"\"\n      }\n    },\n    {\n      \"column\": \"Median\",\n      \"properties\": {\n        \"dtype\": \"number\",\n        \"std\": 1.4082799406162938,\n        \"min\": 1.7635951109999999,\n        \"max\": 4.9747212350000005,\n        \"num_unique_values\": 6,\n        \"samples\": [\n          4.9747212350000005,\n          1.7635951109999999,\n          1.769393306\n        ],\n        \"semantic_type\": \"\",\n        \"description\": \"\"\n      }\n    },\n    {\n      \"column\": \"Mode\",\n      \"properties\": {\n        \"dtype\": \"number\",\n        \"std\": null,\n        \"min\": null,\n        \"max\": null,\n        \"num_unique_values\": 0,\n        \"samples\": [],\n        \"semantic_type\": \"\",\n        \"description\": \"\"\n      }\n    },\n    {\n      \"column\": \"Standard Deviation\",\n      \"properties\": {\n        \"dtype\": \"number\",\n        \"std\": 0.5759435566283084,\n        \"min\": 0.7187833082559764,\n        \"max\": 1.9643988110560782,\n        \"num_unique_values\": 6,\n        \"samples\": [],\n        \"semantic_type\": \"\",\n        \"description\": \"\"\n      }\n    },\n    {\n      \"column\": \"Variance\",\n      \"properties\": {\n        \"dtype\": \"number\",\n        \"std\": 1.5325863415167078,\n        \"min\": 0.5166494442274059,\n        \"max\": 3.8588626888785336,\n        \"num_unique_values\": 6,\n        \"samples\": [],\n        \"semantic_type\": \"\",\n        \"description\": \"\"\n      }\n    }\n  ]\n}"
            }
          },
          "metadata": {},
          "execution_count": 15
        }
      ]
    },
    {
      "cell_type": "code",
      "source": [
        "sns.boxplot(Deciduous_df, palette = {'Chlorophyll_a' : 'green', 'Chlorophyll_b' : 'olive'})\n",
        "plt.xlabel('Deciduous Forest')\n",
        "plt.ylabel('Chlorophyll levels')"
      ],
      "metadata": {
        "colab": {
          "base_uri": "https://localhost:8080/",
          "height": 467
        },
        "id": "e3Tg3Oej5N9N",
        "outputId": "6de39ebc-5fb1-4615-812f-506c93fff969"
      },
      "execution_count": null,
      "outputs": [
        {
          "output_type": "execute_result",
          "data": {
            "text/plain": [
              "Text(0, 0.5, 'Chlorophyll levels')"
            ]
          },
          "metadata": {},
          "execution_count": 16
        },
        {
          "output_type": "display_data",
          "data": {
            "text/plain": [
              "<Figure size 640x480 with 1 Axes>"
            ],
            "image/png": "[encoded data removed]"
          },
          "metadata": {}
        }
      ]
    },
    {
      "cell_type": "code",
      "source": [
        "sns.boxplot(Evergreen_df, palette = {'Chlorophyll_a' : 'green', 'Chlorophyll_b' : 'olive'})\n",
        "plt.xlabel('Evergreen Forest')\n",
        "plt.ylabel('Chlorophyll levels')"
      ],
      "metadata": {
        "colab": {
          "base_uri": "https://localhost:8080/",
          "height": 467
        },
        "id": "46MmGthm51pq",
        "outputId": "b76b0fdb-05a2-49ff-ddbc-11db605fe3a3"
      },
      "execution_count": null,
      "outputs": [
        {
          "output_type": "execute_result",
          "data": {
            "text/plain": [
              "Text(0, 0.5, 'Chlorophyll levels')"
            ]
          },
          "metadata": {},
          "execution_count": 17
        },
        {
          "output_type": "display_data",
          "data": {
            "text/plain": [
              "<Figure size 640x480 with 1 Axes>"
            ],
            "image/png": "[encoded data removed]"
          },
          "metadata": {}
        }
      ]
    },
    {
      "cell_type": "code",
      "source": [
        "summary_data.iloc[:,4]"
      ],
      "metadata": {
        "colab": {
          "base_uri": "https://localhost:8080/",
          "height": 303
        },
        "id": "Eta6flAtRWAD",
        "outputId": "6bce18ed-1ef0-4f8d-972c-897860e0bc1e"
      },
      "execution_count": null,
      "outputs": [
        {
          "output_type": "execute_result",
          "data": {
            "text/plain": [
              "Forest Type        Chlorophyll Type\n",
              "Deciduous Forests  Chlorophyll_a       3.858863\n",
              "                   Chlorophyll_b       0.746000\n",
              "Evergreen Forests  Chlorophyll_a       2.698161\n",
              "                   Chlorophyll_b       0.516649\n",
              "All Forests        Chlorophyll_a       3.467891\n",
              "                   Chlorophyll_b       0.630741\n",
              "Name: Variance, dtype: float64"
            ],
            "text/html": [
              "<div>\n",
              "<style scoped>\n",
              "    .dataframe tbody tr th:only-of-type {\n",
              "        vertical-align: middle;\n",
              "    }\n",
              "\n",
              "    .dataframe tbody tr th {\n",
              "        vertical-align: top;\n",
              "    }\n",
              "\n",
              "    .dataframe thead th {\n",
              "        text-align: right;\n",
              "    }\n",
              "</style>\n",
              "<table border=\"1\" class=\"dataframe\">\n",
              "  <thead>\n",
              "    <tr style=\"text-align: right;\">\n",
              "      <th></th>\n",
              "      <th></th>\n",
              "      <th>Variance</th>\n",
              "    </tr>\n",
              "    <tr>\n",
              "      <th>Forest Type</th>\n",
              "      <th>Chlorophyll Type</th>\n",
              "      <th></th>\n",
              "    </tr>\n",
              "  </thead>\n",
              "  <tbody>\n",
              "    <tr>\n",
              "      <th rowspan=\"2\" valign=\"top\">Deciduous Forests</th>\n",
              "      <th>Chlorophyll_a</th>\n",
              "      <td>3.858863</td>\n",
              "    </tr>\n",
              "    <tr>\n",
              "      <th>Chlorophyll_b</th>\n",
              "      <td>0.746000</td>\n",
              "    </tr>\n",
              "    <tr>\n",
              "      <th rowspan=\"2\" valign=\"top\">Evergreen Forests</th>\n",
              "      <th>Chlorophyll_a</th>\n",
              "      <td>2.698161</td>\n",
              "    </tr>\n",
              "    <tr>\n",
              "      <th>Chlorophyll_b</th>\n",
              "      <td>0.516649</td>\n",
              "    </tr>\n",
              "    <tr>\n",
              "      <th rowspan=\"2\" valign=\"top\">All Forests</th>\n",
              "      <th>Chlorophyll_a</th>\n",
              "      <td>3.467891</td>\n",
              "    </tr>\n",
              "    <tr>\n",
              "      <th>Chlorophyll_b</th>\n",
              "      <td>0.630741</td>\n",
              "    </tr>\n",
              "  </tbody>\n",
              "</table>\n",
              "</div><br><label><b>dtype:</b> float64</label>"
            ]
          },
          "metadata": {},
          "execution_count": 18
        }
      ]
    },
    {
      "cell_type": "code",
      "source": [
        "#Checking if Variances differ significantly for the 3 cases using F-test\n",
        "dec_var_a=summary_data.iloc[0,4]\n",
        "dec_var_b=summary_data.iloc[1,4]\n",
        "\n",
        "#ddof\n",
        "ddof_def_a=len(Deciduous_df)-1\n",
        "ddof_def_b=len(Deciduous_df)-1\n",
        "\n",
        "F_dash_d=dec_var_a/dec_var_b\n",
        "\n",
        "\n",
        "alpha=0.05\n",
        "\n",
        "F_d=scipy.stats.f.ppf(1-alpha, ddof_def_a, ddof_def_b)\n",
        "\n",
        "print(F_dash_d,F_d)"
      ],
      "metadata": {
        "colab": {
          "base_uri": "https://localhost:8080/"
        },
        "id": "1acNiKIdeyAi",
        "outputId": "5177b5d6-190d-4d58-9b80-1e4f69b0f22b"
      },
      "execution_count": null,
      "outputs": [
        {
          "output_type": "stream",
          "name": "stdout",
          "text": [
            "5.172739989807805 1.6072894627459253\n"
          ]
        }
      ]
    },
    {
      "cell_type": "code",
      "source": [
        "\n",
        "if F_dash_d > F_d:\n",
        "    print(\"Reject the null hypothesis. Variances are significantly different.\")\n",
        "else:\n",
        "    print(\"Fail to reject the null hypothesis. Variances are not significantly different.\")\n"
      ],
      "metadata": {
        "colab": {
          "base_uri": "https://localhost:8080/"
        },
        "id": "Y9yoDGgkg8l3",
        "outputId": "9c2019a1-3136-482c-8326-79997219aa04"
      },
      "execution_count": null,
      "outputs": [
        {
          "output_type": "stream",
          "name": "stdout",
          "text": [
            "Reject the null hypothesis. Variances are significantly different.\n"
          ]
        }
      ]
    },
    {
      "cell_type": "code",
      "source": [
        "everg_var_a=summary_data.iloc[2,4]\n",
        "everg_var_b=summary_data.iloc[3,4]\n",
        "\n",
        "#ddof\n",
        "ddof_everg_a=len(Evergreen_df)-1\n",
        "ddof_everg_b=len(Evergreen_df)-1\n",
        "\n",
        "F_dash_e=everg_var_a/everg_var_b\n",
        "\n",
        "F_e=scipy.stats.f.ppf(1-alpha, ddof_everg_a, ddof_everg_b)\n",
        "\n",
        "print(F_dash_e,F_e)"
      ],
      "metadata": {
        "colab": {
          "base_uri": "https://localhost:8080/"
        },
        "id": "HpyMDVrAg8b5",
        "outputId": "cf950745-9d8a-4ceb-f867-1ff964b112f0"
      },
      "execution_count": null,
      "outputs": [
        {
          "output_type": "stream",
          "name": "stdout",
          "text": [
            "5.22242117414268 1.6072894627459253\n"
          ]
        }
      ]
    },
    {
      "cell_type": "code",
      "source": [
        "if F_dash_e > F_e:\n",
        "    print(\"Reject the null hypothesis. Variances are significantly different.\")\n",
        "else:\n",
        "    print(\"Fail to reject the null hypothesis. Variances are not significantly different.\")"
      ],
      "metadata": {
        "colab": {
          "base_uri": "https://localhost:8080/"
        },
        "id": "Z8k6bZ55iL3l",
        "outputId": "e09a5997-c144-4171-9f82-e518a36bbdfa"
      },
      "execution_count": null,
      "outputs": [
        {
          "output_type": "stream",
          "name": "stdout",
          "text": [
            "Reject the null hypothesis. Variances are significantly different.\n"
          ]
        }
      ]
    },
    {
      "cell_type": "code",
      "source": [
        "both_var_a=summary_data.iloc[4,4]\n",
        "both_var_b=summary_data.iloc[5,4]\n",
        "\n",
        "#ddof\n",
        "ddof_both_a=len(df)-1\n",
        "ddof_both_b=len(df)-1\n",
        "\n",
        "F_dash_b=both_var_a/both_var_b\n",
        "\n",
        "F_b=scipy.stats.f.ppf(1-alpha, ddof_both_a, ddof_both_b)\n",
        "\n",
        "print(F_dash_b,F_b)"
      ],
      "metadata": {
        "colab": {
          "base_uri": "https://localhost:8080/"
        },
        "id": "eVzCP8NbiTMl",
        "outputId": "74f3dd59-3f12-47c7-d4ea-d6b7b9fd25da"
      },
      "execution_count": null,
      "outputs": [
        {
          "output_type": "stream",
          "name": "stdout",
          "text": [
            "5.498117349147784 1.3940612573481483\n"
          ]
        }
      ]
    },
    {
      "cell_type": "code",
      "source": [
        "if F_dash_b > F_b:\n",
        "    print(\"Reject the null hypothesis. Variances are significantly different.\")\n",
        "else:\n",
        "    print(\"Fail to reject the null hypothesis. Variances are not significantly different.\")"
      ],
      "metadata": {
        "colab": {
          "base_uri": "https://localhost:8080/"
        },
        "id": "Vh--RKznie3T",
        "outputId": "2418c43e-9c29-4ad5-f97c-bea4bb41a4b1"
      },
      "execution_count": null,
      "outputs": [
        {
          "output_type": "stream",
          "name": "stdout",
          "text": [
            "Reject the null hypothesis. Variances are significantly different.\n"
          ]
        }
      ]
    },
    {
      "cell_type": "code",
      "source": [
        "summary_data.iloc[:,0]"
      ],
      "metadata": {
        "colab": {
          "base_uri": "https://localhost:8080/",
          "height": 303
        },
        "id": "SpKCpRRxSU9E",
        "outputId": "f816dcd2-618c-428e-9dca-7c7c54650737"
      },
      "execution_count": null,
      "outputs": [
        {
          "output_type": "execute_result",
          "data": {
            "text/plain": [
              "Forest Type        Chlorophyll Type\n",
              "Deciduous Forests  Chlorophyll_a       4.564366\n",
              "                   Chlorophyll_b       1.817811\n",
              "Evergreen Forests  Chlorophyll_a       3.625706\n",
              "                   Chlorophyll_b       1.666338\n",
              "All Forests        Chlorophyll_a       4.095036\n",
              "                   Chlorophyll_b       1.742074\n",
              "Name: Mean, dtype: float64"
            ],
            "text/html": [
              "<div>\n",
              "<style scoped>\n",
              "    .dataframe tbody tr th:only-of-type {\n",
              "        vertical-align: middle;\n",
              "    }\n",
              "\n",
              "    .dataframe tbody tr th {\n",
              "        vertical-align: top;\n",
              "    }\n",
              "\n",
              "    .dataframe thead th {\n",
              "        text-align: right;\n",
              "    }\n",
              "</style>\n",
              "<table border=\"1\" class=\"dataframe\">\n",
              "  <thead>\n",
              "    <tr style=\"text-align: right;\">\n",
              "      <th></th>\n",
              "      <th></th>\n",
              "      <th>Mean</th>\n",
              "    </tr>\n",
              "    <tr>\n",
              "      <th>Forest Type</th>\n",
              "      <th>Chlorophyll Type</th>\n",
              "      <th></th>\n",
              "    </tr>\n",
              "  </thead>\n",
              "  <tbody>\n",
              "    <tr>\n",
              "      <th rowspan=\"2\" valign=\"top\">Deciduous Forests</th>\n",
              "      <th>Chlorophyll_a</th>\n",
              "      <td>4.564366</td>\n",
              "    </tr>\n",
              "    <tr>\n",
              "      <th>Chlorophyll_b</th>\n",
              "      <td>1.817811</td>\n",
              "    </tr>\n",
              "    <tr>\n",
              "      <th rowspan=\"2\" valign=\"top\">Evergreen Forests</th>\n",
              "      <th>Chlorophyll_a</th>\n",
              "      <td>3.625706</td>\n",
              "    </tr>\n",
              "    <tr>\n",
              "      <th>Chlorophyll_b</th>\n",
              "      <td>1.666338</td>\n",
              "    </tr>\n",
              "    <tr>\n",
              "      <th rowspan=\"2\" valign=\"top\">All Forests</th>\n",
              "      <th>Chlorophyll_a</th>\n",
              "      <td>4.095036</td>\n",
              "    </tr>\n",
              "    <tr>\n",
              "      <th>Chlorophyll_b</th>\n",
              "      <td>1.742074</td>\n",
              "    </tr>\n",
              "  </tbody>\n",
              "</table>\n",
              "</div><br><label><b>dtype:</b> float64</label>"
            ]
          },
          "metadata": {},
          "execution_count": 25
        }
      ]
    },
    {
      "cell_type": "code",
      "source": [
        "#For Deciduous Forests\n",
        "t_statistic_d, p_value_d = scipy.stats.ttest_rel(Deciduous_df[\"Chlorophyll_a\"], Deciduous_df[\"Chlorophyll_b\"], alternative='greater')\n",
        "print(f\"Deciduous Forests: t-statistic = {t_statistic_d}, p-value = {p_value_d}\")\n",
        "if p_value_d < alpha:\n",
        "    print(\"Reject the null hypothesis. Chlorophyll a levels are significantly greater than Chlorophyll b levels.\")\n",
        "else:\n",
        "    print(\"Fail to reject the null hypothesis. There is no significant difference.\")\n",
        "\n",
        "#For Evergreen Forests\n",
        "t_statistic_e, p_value_e = scipy.stats.ttest_rel(Evergreen_df[\"Chlorophyll_a\"], Evergreen_df[\"Chlorophyll_b\"], alternative='greater')\n",
        "print(f\"Evergreen Forests: t-statistic = {t_statistic_e:}, p-value = {p_value_e:}\")\n",
        "if p_value_e < alpha:\n",
        "    print(\"Reject the null hypothesis. Chlorophyll a levels are significantly greater than Chlorophyll b levels.\")\n",
        "else:\n",
        "    print(\"Fail to reject the null hypothesis. There is no significant difference.\")\n",
        "\n",
        "#For all Forests\n",
        "t_statistic_b, p_value_b = scipy.stats.ttest_rel(df[\"Chlorophyll_a\"], df[\"Chlorophyll_b\"], alternative='greater')\n",
        "print(f\"All Forests: t-statistic = {t_statistic_b:}, p-value = {p_value_b:}\")\n",
        "if p_value_b < alpha:\n",
        "    print(\"Reject the null hypothesis. Chlorophyll a levels are significantly greater than Chlorophyll b levels.\")\n",
        "else:\n",
        "    print(\"Fail to reject the null hypothesis. There is no significant difference.\")\n"
      ],
      "metadata": {
        "colab": {
          "base_uri": "https://localhost:8080/"
        },
        "id": "I7IkSVGIFPd9",
        "outputId": "c86fe7aa-b5c8-4ad0-a353-45920ea1e30e"
      },
      "execution_count": null,
      "outputs": [
        {
          "output_type": "stream",
          "name": "stdout",
          "text": [
            "Deciduous Forests: t-statistic = 9.105133906250211, p-value = 2.0561959831830027e-12\n",
            "Reject the null hypothesis. Chlorophyll a levels are significantly greater than Chlorophyll b levels.\n",
            "Evergreen Forests: t-statistic = 7.452897833871622, p-value = 6.614613148891291e-10\n",
            "Reject the null hypothesis. Chlorophyll a levels are significantly greater than Chlorophyll b levels.\n",
            "All Forests: t-statistic = 11.593946975911505, p-value = 1.9048682268704486e-20\n",
            "Reject the null hypothesis. Chlorophyll a levels are significantly greater than Chlorophyll b levels.\n"
          ]
        }
      ]
    }
  ]
}